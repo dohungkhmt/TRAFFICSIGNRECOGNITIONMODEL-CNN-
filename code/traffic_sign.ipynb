{
  "cells": [
    {
      "cell_type": "code",
      "execution_count": 1,
      "metadata": {
        "id": "oMpk1X0UdMW1"
      },
      "outputs": [],
      "source": [
        "import numpy as np \n",
        "import pandas as pd \n",
        "import matplotlib.pyplot as plt\n",
        "import cv2\n",
        "import tensorflow as tf\n",
        "from PIL import Image\n",
        "import os\n",
        "from sklearn.model_selection import train_test_split\n",
        "from keras.utils import to_categorical\n",
        "from keras.models import Sequential, load_model\n",
        "from keras.layers import Conv2D, MaxPool2D, Dense, Flatten, Dropout\n",
        "\n",
        "data = []\n",
        "labels = []\n",
        "classes = 43\n",
        "cur_path = os.getcwd()\n",
        "\n",
        "#Retrieving the images and their labels \n",
        "for i in range(classes):\n",
        "    path = os.path.join(cur_path,'train',str(i))\n",
        "    images = os.listdir(path)\n",
        "\n",
        "    for a in images:\n",
        "        try:\n",
        "            image = Image.open(path + '\\\\'+ a)\n",
        "            image = image.resize((30,30))\n",
        "            image = np.array(image)\n",
        "            #sim = Image.fromarray(image)\n",
        "            data.append(image)\n",
        "            labels.append(i)\n",
        "        except:\n",
        "            print(\"Error loading image\")\n",
        "\n",
        "#Converting lists into numpy arrays\n",
        "data = np.array(data)\n",
        "labels = np.array(labels)\n"
      ]
    },
    {
      "cell_type": "code",
      "execution_count": 2,
      "metadata": {
        "id": "j9ca4DGIdMW4",
        "outputId": "2388fa0b-d4bd-4ea4-f80a-325e8600b1de"
      },
      "outputs": [
        {
          "name": "stdout",
          "output_type": "stream",
          "text": [
            "(39209, 30, 30, 3) (39209,)\n",
            "(31367, 30, 30, 3) (7842, 30, 30, 3) (31367,) (7842,)\n"
          ]
        }
      ],
      "source": [
        "print(data.shape, labels.shape)\n",
        "\n",
        "#Splitting training and testing dataset\n",
        "X_train, X_test, y_train, y_test = train_test_split(data, labels, test_size=0.2, random_state=42)\n",
        "\n",
        "print(X_train.shape, X_test.shape, y_train.shape, y_test.shape)\n",
        "\n",
        "#Converting the labels into one hot encoding\n",
        "y_train = to_categorical(y_train, 43)\n",
        "y_test = to_categorical(y_test, 43)"
      ]
    },
    {
      "cell_type": "code",
      "execution_count": 3,
      "metadata": {},
      "outputs": [
        {
          "name": "stdout",
          "output_type": "stream",
          "text": [
            "Epoch 1/15\n",
            "491/491 [==============================] - 701s 1s/step - loss: 1.4567 - accuracy: 0.5811 - val_loss: 0.4964 - val_accuracy: 0.8472\n",
            "Epoch 2/15\n",
            "491/491 [==============================] - 703s 1s/step - loss: 0.1901 - accuracy: 0.9461 - val_loss: 0.0735 - val_accuracy: 0.9782\n",
            "Epoch 3/15\n",
            "491/491 [==============================] - 703s 1s/step - loss: 0.0923 - accuracy: 0.9755 - val_loss: 0.2925 - val_accuracy: 0.9333\n",
            "Epoch 4/15\n",
            "491/491 [==============================] - 703s 1s/step - loss: 0.1065 - accuracy: 0.9735 - val_loss: 0.1854 - val_accuracy: 0.9537\n",
            "Epoch 5/15\n",
            "491/491 [==============================] - 702s 1s/step - loss: 0.0833 - accuracy: 0.9800 - val_loss: 0.1355 - val_accuracy: 0.9802\n",
            "Epoch 6/15\n",
            "491/491 [==============================] - 702s 1s/step - loss: 0.0903 - accuracy: 0.9803 - val_loss: 0.1005 - val_accuracy: 0.9784\n",
            "Epoch 7/15\n",
            "491/491 [==============================] - 703s 1s/step - loss: 0.0704 - accuracy: 0.9846 - val_loss: 0.1302 - val_accuracy: 0.9711\n",
            "Epoch 8/15\n",
            "491/491 [==============================] - 707s 1s/step - loss: 0.0545 - accuracy: 0.9883 - val_loss: 0.2566 - val_accuracy: 0.9521\n",
            "Epoch 9/15\n",
            "491/491 [==============================] - 701s 1s/step - loss: 0.0634 - accuracy: 0.9867 - val_loss: 0.1442 - val_accuracy: 0.9723\n",
            "Epoch 10/15\n",
            "491/491 [==============================] - 698s 1s/step - loss: 0.0886 - accuracy: 0.9817 - val_loss: 0.0525 - val_accuracy: 0.9887\n",
            "Epoch 11/15\n",
            "491/491 [==============================] - 700s 1s/step - loss: 0.0645 - accuracy: 0.9870 - val_loss: 0.1900 - val_accuracy: 0.9676\n",
            "Epoch 12/15\n",
            "491/491 [==============================] - 700s 1s/step - loss: 0.0760 - accuracy: 0.9849 - val_loss: 0.0646 - val_accuracy: 0.9818\n",
            "Epoch 13/15\n",
            "491/491 [==============================] - 699s 1s/step - loss: 0.0607 - accuracy: 0.9891 - val_loss: 0.0506 - val_accuracy: 0.9906\n",
            "Epoch 14/15\n",
            "491/491 [==============================] - 698s 1s/step - loss: 0.0516 - accuracy: 0.9903 - val_loss: 0.0950 - val_accuracy: 0.9866\n",
            "Epoch 15/15\n",
            "491/491 [==============================] - 700s 1s/step - loss: 0.0880 - accuracy: 0.9845 - val_loss: 0.1176 - val_accuracy: 0.9732\n"
          ]
        }
      ],
      "source": [
        "#Building the model VGG16\n",
        "model = Sequential()\n",
        "model.add(Conv2D(filters=64, kernel_size=(3, 3),padding = \"same\", activation='relu', input_shape=X_train.shape[1:]))\n",
        "model.add(Conv2D(filters=64, kernel_size=(3, 3),padding = \"same\", activation='relu'))\n",
        "model.add(MaxPool2D(pool_size=(2, 2)))\n",
        "model.add(Conv2D(filters=128, kernel_size=(3, 3),padding = \"same\", activation='relu'))\n",
        "model.add(Conv2D(filters=128, kernel_size=(3, 3),padding = \"same\", activation='relu'))\n",
        "model.add(MaxPool2D(pool_size=(2, 2)))\n",
        "model.add(Conv2D(filters=256, kernel_size=(3, 3),padding = \"same\", activation='relu'))\n",
        "model.add(Conv2D(filters=256, kernel_size=(3, 3),padding = \"same\", activation='relu'))\n",
        "model.add(MaxPool2D(pool_size=(2, 2)))\n",
        "model.add(Conv2D(filters=512, kernel_size=(3, 3),padding = \"same\", activation='relu'))\n",
        "model.add(Conv2D(filters=512, kernel_size=(3, 3),padding = \"same\", activation='relu'))\n",
        "model.add(MaxPool2D(pool_size=(2, 2)))\n",
        "\n",
        "model.add(Flatten(name=\"flatten\"))\n",
        "model.add(Dense(256, activation=\"relu\", name=\"fc1\"))\n",
        "model.add(Dense(128, activation=\"relu\", name=\"fc2\"))\n",
        "model.add(Dense(43, activation=\"softmax\", name=\"output\"))\n",
        "\n",
        "#Compilation of the model\n",
        "model.compile(loss='categorical_crossentropy', optimizer='adam', metrics=['accuracy'])\n",
        "\n",
        "epochs = 15\n",
        "history = model.fit(X_train, y_train, batch_size=64, epochs=epochs, validation_data=(X_test, y_test))\n",
        "model.save(\"VGG16.h5\")"
      ]
    },
    {
      "cell_type": "code",
      "execution_count": 4,
      "metadata": {},
      "outputs": [
        {
          "data": {
            "image/png": "[encoded data removed]",
            "text/plain": [
              "<Figure size 432x288 with 1 Axes>"
            ]
          },
          "metadata": {
            "needs_background": "light"
          },
          "output_type": "display_data"
        },
        {
          "data": {
            "image/png": "[encoded data removed]",
            "text/plain": [
              "<Figure size 432x288 with 1 Axes>"
            ]
          },
          "metadata": {
            "needs_background": "light"
          },
          "output_type": "display_data"
        }
      ],
      "source": [
        "#plotting graphs for accuracy \n",
        "plt.figure(0)\n",
        "plt.plot(history.history['accuracy'], label='training accuracy')\n",
        "plt.plot(history.history['val_accuracy'], label='val accuracy')\n",
        "plt.title('Accuracy of VGG16')\n",
        "plt.xlabel('epochs')\n",
        "plt.ylabel('accuracy')\n",
        "plt.legend()\n",
        "plt.show()\n",
        " \n",
        "plt.figure(1)\n",
        "plt.plot(history.history['loss'], label='training loss')\n",
        "plt.plot(history.history['val_loss'], label='val loss')\n",
        "plt.title('Loss of VGG16')\n",
        "plt.xlabel('epochs')\n",
        "plt.ylabel('loss')\n",
        "plt.legend()\n",
        "plt.show()"
      ]
    },
    {
      "cell_type": "code",
      "execution_count": 5,
      "metadata": {},
      "outputs": [
        {
          "name": "stdout",
          "output_type": "stream",
          "text": [
            "395/395 [==============================] - 44s 112ms/step\n",
            "0.9333333333333333\n"
          ]
        }
      ],
      "source": [
        "#testing accuracy on test dataset\n",
        "from sklearn.metrics import accuracy_score\n",
        "\n",
        "y_test_demo = pd.read_csv('Test.csv')\n",
        "\n",
        "labels_demo = y_test_demo[\"ClassId\"].values\n",
        "imgs = y_test_demo[\"Path\"].values\n",
        "\n",
        "data=[]\n",
        "\n",
        "for img in imgs:\n",
        "    image = Image.open(img)\n",
        "    image = image.resize((30,30))\n",
        "    data.append(np.array(image))\n",
        "\n",
        "X_test_demo=np.array(data)\n",
        "\n",
        "#pred = model.predict_classes(X_test)\n",
        "pred = model.predict(X_test_demo) \n",
        "pred = np.argmax(pred, axis=1)  \n",
        "\n",
        "#Accuracy with the test data\n",
        "from sklearn.metrics import accuracy_score\n",
        "print(accuracy_score(labels_demo, pred))\n",
        "model.save('VGG16.h5')"
      ]
    },
    {
      "cell_type": "code",
      "execution_count": 6,
      "metadata": {},
      "outputs": [
        {
          "name": "stdout",
          "output_type": "stream",
          "text": [
            "Epoch 1/15\n",
            "491/491 [==============================] - 86s 174ms/step - loss: 2.6534 - accuracy: 0.4116 - val_loss: 0.5962 - val_accuracy: 0.8511\n",
            "Epoch 2/15\n",
            "491/491 [==============================] - 86s 174ms/step - loss: 0.6733 - accuracy: 0.8065 - val_loss: 0.1972 - val_accuracy: 0.9545\n",
            "Epoch 3/15\n",
            "491/491 [==============================] - 85s 173ms/step - loss: 0.3752 - accuracy: 0.8924 - val_loss: 0.1147 - val_accuracy: 0.9735\n",
            "Epoch 4/15\n",
            "491/491 [==============================] - 85s 173ms/step - loss: 0.2597 - accuracy: 0.9259 - val_loss: 0.0698 - val_accuracy: 0.9820\n",
            "Epoch 5/15\n",
            "491/491 [==============================] - 85s 173ms/step - loss: 0.2012 - accuracy: 0.9432 - val_loss: 0.0510 - val_accuracy: 0.9895\n",
            "Epoch 6/15\n",
            "491/491 [==============================] - 85s 174ms/step - loss: 0.1822 - accuracy: 0.9481 - val_loss: 0.0627 - val_accuracy: 0.9843\n",
            "Epoch 7/15\n",
            "491/491 [==============================] - 85s 173ms/step - loss: 0.1745 - accuracy: 0.9518 - val_loss: 0.0775 - val_accuracy: 0.9791\n",
            "Epoch 8/15\n",
            "491/491 [==============================] - 85s 173ms/step - loss: 0.1852 - accuracy: 0.9493 - val_loss: 0.0487 - val_accuracy: 0.9871\n",
            "Epoch 9/15\n",
            "491/491 [==============================] - 85s 174ms/step - loss: 0.1434 - accuracy: 0.9622 - val_loss: 0.0339 - val_accuracy: 0.9926\n",
            "Epoch 10/15\n",
            "491/491 [==============================] - 85s 173ms/step - loss: 0.1413 - accuracy: 0.9638 - val_loss: 0.0537 - val_accuracy: 0.9890\n",
            "Epoch 11/15\n",
            "491/491 [==============================] - 85s 174ms/step - loss: 0.1445 - accuracy: 0.9618 - val_loss: 0.0473 - val_accuracy: 0.9885\n",
            "Epoch 12/15\n",
            "491/491 [==============================] - 85s 173ms/step - loss: 0.1536 - accuracy: 0.9594 - val_loss: 0.0489 - val_accuracy: 0.9870\n",
            "Epoch 13/15\n",
            "491/491 [==============================] - 85s 174ms/step - loss: 0.1613 - accuracy: 0.9590 - val_loss: 0.0659 - val_accuracy: 0.9802\n",
            "Epoch 14/15\n",
            "491/491 [==============================] - 85s 173ms/step - loss: 0.1310 - accuracy: 0.9647 - val_loss: 0.0491 - val_accuracy: 0.9885\n",
            "Epoch 15/15\n",
            "491/491 [==============================] - 85s 173ms/step - loss: 0.1248 - accuracy: 0.9680 - val_loss: 0.0525 - val_accuracy: 0.9875\n"
          ]
        }
      ],
      "source": [
        "#Building the model\n",
        "model_2 = Sequential()\n",
        "model_2.add(Conv2D(filters=32, kernel_size=(5,5), activation='relu', input_shape=X_train.shape[1:]))\n",
        "model_2.add(Conv2D(filters=32, kernel_size=(5,5), activation='relu'))\n",
        "model_2.add(MaxPool2D(pool_size=(2, 2)))\n",
        "model_2.add(Dropout(rate=0.25))\n",
        "model_2.add(Conv2D(filters=64, kernel_size=(3, 3), activation='relu'))\n",
        "model_2.add(Conv2D(filters=64, kernel_size=(3, 3), activation='relu'))\n",
        "model_2.add(MaxPool2D(pool_size=(2, 2)))\n",
        "model_2.add(Dropout(rate=0.25))\n",
        "model_2.add(Flatten())\n",
        "model_2.add(Dense(256, activation='relu'))\n",
        "model_2.add(Dropout(rate=0.5))\n",
        "model_2.add(Dense(43, activation='softmax'))\n",
        "\n",
        "#Compilation of the model\n",
        "model_2.compile(loss='categorical_crossentropy', optimizer='adam', metrics=['accuracy'])\n",
        "\n",
        "epochs = 15\n",
        "history_2 = model_2.fit(X_train, y_train, batch_size=64, epochs=epochs, validation_data=(X_test, y_test))\n",
        "model_2.save(\"my_model.h5\")"
      ]
    },
    {
      "cell_type": "code",
      "execution_count": 7,
      "metadata": {},
      "outputs": [
        {
          "data": {
            "image/png": "[encoded data removed]",
            "text/plain": [
              "<Figure size 432x288 with 1 Axes>"
            ]
          },
          "metadata": {
            "needs_background": "light"
          },
          "output_type": "display_data"
        },
        {
          "data": {
            "image/png": "[encoded data removed]",
            "text/plain": [
              "<Figure size 432x288 with 1 Axes>"
            ]
          },
          "metadata": {
            "needs_background": "light"
          },
          "output_type": "display_data"
        }
      ],
      "source": [
        "#plotting graphs for accuracy \n",
        "plt.figure(0)\n",
        "plt.plot(history_2.history['accuracy'], label='training accuracy')\n",
        "plt.plot(history_2.history['val_accuracy'], label='val accuracy')\n",
        "plt.title('Accuracy')\n",
        "plt.xlabel('epochs')\n",
        "plt.ylabel('accuracy')\n",
        "plt.legend()\n",
        "plt.show()\n",
        " \n",
        "plt.figure(1)\n",
        "plt.plot(history_2.history['loss'], label='training loss')\n",
        "plt.plot(history_2.history['val_loss'], label='val loss')\n",
        "plt.title('Loss')\n",
        "plt.xlabel('epochs')\n",
        "plt.ylabel('loss')\n",
        "plt.legend()\n",
        "plt.show()"
      ]
    },
    {
      "cell_type": "code",
      "execution_count": 8,
      "metadata": {},
      "outputs": [
        {
          "name": "stdout",
          "output_type": "stream",
          "text": [
            "395/395 [==============================] - 8s 20ms/step\n",
            "0.9575613618368963\n"
          ]
        }
      ],
      "source": [
        "#testing accuracy on test dataset\n",
        "from sklearn.metrics import accuracy_score\n",
        "\n",
        "y_test_demo = pd.read_csv('Test.csv')\n",
        "\n",
        "labels_demo = y_test_demo[\"ClassId\"].values\n",
        "imgs = y_test_demo[\"Path\"].values\n",
        "\n",
        "data=[]\n",
        "\n",
        "for img in imgs:\n",
        "    image = Image.open(img)\n",
        "    image = image.resize((30,30))\n",
        "    data.append(np.array(image))\n",
        "\n",
        "X_test_demo=np.array(data)\n",
        "\n",
        "#pred = model.predict_classes(X_test)\n",
        "pred = model_2.predict(X_test_demo) \n",
        "pred = np.argmax(pred, axis=1)  \n",
        "\n",
        "#Accuracy with the test data\n",
        "from sklearn.metrics import accuracy_score\n",
        "print(accuracy_score(labels_demo, pred))\n",
        "model_2.save('my_model.h5')"
      ]
    },
    {
      "cell_type": "code",
      "execution_count": 12,
      "metadata": {
        "id": "BcqicKhOdMW8",
        "outputId": "30188e21-bd3f-4243-fb12-b3d3c5d9c57f"
      },
      "outputs": [
        {
          "name": "stdout",
          "output_type": "stream",
          "text": [
            "1/1 [==============================] - 0s 115ms/step\n",
            "Veh > 3.5 tons prohibited\n",
            "1/1 [==============================] - 0s 30ms/step\n",
            "Speed limit (70km/h)\n"
          ]
        }
      ],
      "source": [
        "import tkinter as tk\n",
        "from tkinter import filedialog\n",
        "from tkinter import *\n",
        "from PIL import ImageTk, Image\n",
        "\n",
        "import numpy\n",
        "#load the trained model to classify sign\n",
        "from keras.models import load_model\n",
        "model_test = load_model('my_model.h5')\n",
        "\n",
        "#dictionary to label all traffic signs class.\n",
        "classes = { 1:'Speed limit (20km/h)',\n",
        "            2:'Speed limit (30km/h)', \n",
        "            3:'Speed limit (50km/h)', \n",
        "            4:'Speed limit (60km/h)', \n",
        "            5:'Speed limit (70km/h)', \n",
        "            6:'Speed limit (80km/h)', \n",
        "            7:'End of speed limit (80km/h)', \n",
        "            8:'Speed limit (100km/h)', \n",
        "            9:'Speed limit (120km/h)', \n",
        "            10:'No passing', \n",
        "            11:'No passing veh over 3.5 tons', \n",
        "            12:'Right-of-way at intersection', \n",
        "            13:'Priority road', \n",
        "            14:'Yield', \n",
        "            15:'Stop', \n",
        "            16:'No vehicles', \n",
        "            17:'Veh > 3.5 tons prohibited', \n",
        "            18:'No entry', \n",
        "            19:'General caution', \n",
        "            20:'Dangerous curve left', \n",
        "            21:'Dangerous curve right', \n",
        "            22:'Double curve', \n",
        "            23:'Bumpy road', \n",
        "            24:'Slippery road', \n",
        "            25:'Road narrows on the right', \n",
        "            26:'Road work', \n",
        "            27:'Traffic signals', \n",
        "            28:'Pedestrians', \n",
        "            29:'Children crossing', \n",
        "            30:'Bicycles crossing', \n",
        "            31:'Beware of ice/snow',\n",
        "            32:'Wild animals crossing', \n",
        "            33:'End speed + passing limits', \n",
        "            34:'Turn right ahead', \n",
        "            35:'Turn left ahead', \n",
        "            36:'Ahead only', \n",
        "            37:'Go straight or right', \n",
        "            38:'Go straight or left', \n",
        "            39:'Keep right', \n",
        "            40:'Keep left', \n",
        "            41:'Roundabout mandatory', \n",
        "            42:'End of no passing', \n",
        "            43:'End no passing veh > 3.5 tons' }\n",
        "\n",
        "#initialise GUI\n",
        "top=tk.Tk()\n",
        "top.geometry('800x600')\n",
        "top.title('Traffic sign classification')\n",
        "\n",
        "p1 = PhotoImage(file = 'icon.png')\n",
        "top.iconphoto(False, p1)\n",
        "top.configure(background='#CDCDCD')\n",
        "\n",
        "label=Label(top,background='#CDCDCD', font=('arial',15,'bold'))\n",
        "sign_image = Label(top)\n",
        "\n",
        "def classify(file_path):\n",
        "    global label_packed\n",
        "    image = Image.open(file_path)\n",
        "    image = image.resize((30,30))\n",
        "    image = numpy.expand_dims(image, axis=0)\n",
        "    image = numpy.array(image)\n",
        "    #pred = model.predict_classes(image)[0]\n",
        "    pred = model_test.predict(image)[0]\n",
        "    pred = np.argmax(pred, axis=0)  \n",
        "\n",
        "    sign = classes[pred+1]\n",
        "    print(sign)\n",
        "    label.configure(foreground='#011638', text=sign) \n",
        "\n",
        "def show_classify_button(file_path):\n",
        "    classify_b=Button(top,text=\"Classify Image\",command=lambda: classify(file_path),padx=10,pady=5)\n",
        "    classify_b.configure(background='#364156', foreground='white',font=('arial',10,'bold'))\n",
        "    classify_b.place(relx=0.79,rely=0.46)\n",
        "\n",
        "def upload_image():\n",
        "    try:\n",
        "        file_path=filedialog.askopenfilename()\n",
        "        uploaded=Image.open(file_path)\n",
        "        uploaded.thumbnail(((top.winfo_width()/2.25),(top.winfo_height()/2.25)))\n",
        "        im=ImageTk.PhotoImage(uploaded)\n",
        "\n",
        "        sign_image.configure(image=im)\n",
        "        sign_image.image=im\n",
        "        label.configure(text='')\n",
        "        show_classify_button(file_path)\n",
        "    except:\n",
        "        pass\n",
        "\n",
        "upload=Button(top,text=\"Upload an image\",command=upload_image,padx=10,pady=5)\n",
        "upload.configure(background='#364156', foreground='white',font=('arial',10,'bold'))\n",
        "\n",
        "upload.pack(side=BOTTOM,pady=50)\n",
        "sign_image.pack(side=BOTTOM,expand=True)\n",
        "label.pack(side=BOTTOM,expand=True)\n",
        "heading = Label(top, text=\"BÁO CÁO CUỐI KÌ ĐỀ TÀI: NHẬN DIỆN BIỂN BÁO GIAO THÔNG BẰNG CNN\",pady=20, font=('arial',15,'bold'))\n",
        "heading.configure(background='#CDCDCD',foreground='#364156')\n",
        "heading.pack()\n",
        "top.mainloop()"
      ]
    }
  ],
  "metadata": {
    "colab": {
      "provenance": []
    },
    "kernelspec": {
      "display_name": "Python (testenv)",
      "language": "python",
      "name": "testenv"
    },
    "language_info": {
      "codemirror_mode": {
        "name": "ipython",
        "version": 3
      },
      "file_extension": ".py",
      "mimetype": "text/x-python",
      "name": "python",
      "nbconvert_exporter": "python",
      "pygments_lexer": "ipython3",
      "version": "3.9.7"
    },
    "orig_nbformat": 4
  },
  "nbformat": 4,
  "nbformat_minor": 0
}
